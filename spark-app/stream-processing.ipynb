{
 "cells": [
  {
   "cell_type": "code",
   "execution_count": null,
   "metadata": {},
   "outputs": [],
   "source": [
    "import os\n",
    "from pyspark.streaming.kafka import KafkaUtils\n",
    "from pyspark.streaming import StreamingContext\n",
    "from pyspark import SparkContext\n",
    "from pyspark.sql import SQLContext\n",
    "import redis\n",
    "from datetime import datetime"
   ]
  },
  {
   "cell_type": "code",
   "execution_count": null,
   "metadata": {},
   "outputs": [],
   "source": [
    "sc = SparkContext()\n",
    "ssc = StreamingContext(sc, 5) # Create a streaming context with batch interval of 5 seconds\n",
    "directKafkaStream = KafkaUtils.createDirectStream(ssc, [\"water\"], {\"metadata.broker.list\": \"kafka:9093\"})\n",
    "sql = SQLContext(sc)\n",
    "r = redis.StrictRedis(host='redis', port=6379, db=0, decode_responses=True)"
   ]
  },
  {
   "cell_type": "code",
   "execution_count": null,
   "metadata": {},
   "outputs": [],
   "source": [
    "def setSetByHouse(row, timestamp):\n",
    "    key = row.id + '-total-' + timestamp\n",
    "    previous_value = 0 if r.get(key) is None else r.get(key)\n",
    "    if int(previous_value) < int(row.lit):\n",
    "        r.delete(key)\n",
    "        r.set(key, row.lit)\n",
    "        r.expire(key, 300)"
   ]
  },
  {
   "cell_type": "code",
   "execution_count": null,
   "metadata": {},
   "outputs": [],
   "source": [
    "def process(kafkaRdd):\n",
    "    print(\"No. of rows: %d\" % kafkaRdd.count())\n",
    "    \n",
    "    kafkaValuesRdd = kafkaRdd.map(lambda x: x[1])\n",
    "    dataFrame = sql.read.json(kafkaValuesRdd)\n",
    "    for row in dataFrame.rdd.collect():\n",
    "        temp = datetime.strptime(row.time, \"%Y-%m-%d %H:%M:%S\")\n",
    "        timestamp = datetime(temp.year, temp.month, temp.day, temp.hour, temp.minute)\n",
    "        timestamp = timestamp.strftime(\"%Y%m%d%H%M\")\n",
    "        \n",
    "        setSetByHouse(row, timestamp)"
   ]
  },
  {
   "cell_type": "code",
   "execution_count": null,
   "metadata": {},
   "outputs": [],
   "source": [
    "directKafkaStream.foreachRDD(process)"
   ]
  },
  {
   "cell_type": "code",
   "execution_count": null,
   "metadata": {},
   "outputs": [],
   "source": [
    "ssc.start()             # Start the computation\n",
    "ssc.awaitTermination()  # Wait for the computation to terminate"
   ]
  },
  {
   "cell_type": "code",
   "execution_count": null,
   "metadata": {},
   "outputs": [],
   "source": []
  }
 ],
 "metadata": {
  "kernelspec": {
   "display_name": "Python 3",
   "language": "python",
   "name": "python3"
  },
  "language_info": {
   "codemirror_mode": {
    "name": "ipython",
    "version": 3
   },
   "file_extension": ".py",
   "mimetype": "text/x-python",
   "name": "python",
   "nbconvert_exporter": "python",
   "pygments_lexer": "ipython3",
   "version": "3.6.8"
  }
 },
 "nbformat": 4,
 "nbformat_minor": 4
}
